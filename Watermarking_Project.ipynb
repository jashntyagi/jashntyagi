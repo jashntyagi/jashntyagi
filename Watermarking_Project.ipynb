{
  "nbformat": 4,
  "nbformat_minor": 0,
  "metadata": {
    "colab": {
      "provenance": [],
      "include_colab_link": true
    },
    "kernelspec": {
      "name": "python3",
      "display_name": "Python 3"
    },
    "language_info": {
      "name": "python"
    }
  },
  "cells": [
    {
      "cell_type": "markdown",
      "metadata": {
        "id": "view-in-github",
        "colab_type": "text"
      },
      "source": [
        "<a href=\"https://colab.research.google.com/github/jashntyagi/jashntyagi/blob/main/Watermarking_Project.ipynb\" target=\"_parent\"><img src=\"https://colab.research.google.com/assets/colab-badge.svg\" alt=\"Open In Colab\"/></a>"
      ]
    },
    {
      "cell_type": "code",
      "source": [
        "import pandas as pd\n",
        "from pandas import read_csv\n",
        "from tensorflow.keras.models import Sequential\n",
        "from tensorflow.keras.layers import Dense\n",
        "from tensorflow.keras.wrappers.scikit_learn import KerasRegressor\n",
        "from sklearn.model_selection import cross_val_score\n",
        "from sklearn.model_selection import KFold\n",
        "from tensorflow.keras.utils import load_img\n",
        "from tensorflow.keras.models import Sequential\n",
        "from tensorflow.keras.layers import Dense\n",
        "from tensorflow.keras.wrappers.scikit_learn import KerasRegressor\n",
        "from sklearn.model_selection import cross_val_score\n",
        "from sklearn.model_selection import KFold\n",
        "from pandas import read_csv\n",
        "from tensorflow.keras.models import Sequential\n",
        "from tensorflow.keras.layers import Dense\n",
        "from tensorflow.keras.wrappers.scikit_learn import KerasRegressor\n",
        "from sklearn.model_selection import cross_val_score\n",
        "from sklearn.model_selection import KFold\n",
        "from tensorflow.keras import Input\n",
        "from tensorflow.keras import Model\n",
        "from tensorflow.keras. layers import BatchNormalization\n",
        "from keras.layers import Conv2D\n",
        "from keras.layers import LeakyReLU\n",
        "from keras.layers import Flatten\n",
        "import numpy as np\n",
        "from keras.layers import Reshape\n",
        "from keras.layers import Conv2DTranspose\n",
        "from tensorflow.keras.utils import load_img"
      ],
      "metadata": {
        "id": "aPQQR-nglzOO"
      },
      "execution_count": null,
      "outputs": []
    },
    {
      "cell_type": "code",
      "source": [
        "from pandas import read_csv\n",
        "from tensorflow.keras.models import Sequential\n",
        "from tensorflow.keras.layers import Dense\n",
        "from tensorflow.keras.wrappers.scikit_learn import KerasRegressor\n",
        "from sklearn.model_selection import cross_val_score\n",
        "from sklearn.model_selection import KFold\n",
        "from sklearn.preprocessing import StandardScaler\n",
        "from sklearn.pipeline import Pipeline\n",
        "from tensorflow.keras.optimizers import Adam\n",
        "from tensorflow.keras.layers import BatchNormalization\n",
        "from tensorflow.keras.optimizers import RMSprop\n",
        "from tensorflow.keras.layers import BatchNormalization\n",
        "from tensorflow.keras import Input\n",
        "from tensorflow.keras import Model\n",
        "from tensorflow.keras.datasets import fashion_mnist\n",
        "from tensorflow.keras.layers import BatchNormalization\n",
        "from keras.layers import Conv2D\n",
        "from keras.layers import LeakyReLU\n",
        "from keras.layers import Flatten\n",
        "from keras.layers import Reshape\n",
        "import numpy as np\n",
        "from keras.layers import Conv2DTranspose"
      ],
      "metadata": {
        "id": "LDXb6BoQHDrY"
      },
      "execution_count": null,
      "outputs": []
    },
    {
      "cell_type": "code",
      "source": [
        "(dftrain,_),(dftest,_)=fashion_mnist.load_data()"
      ],
      "metadata": {
        "id": "Bi8UMckUHFao",
        "outputId": "97240c5a-32e7-4a74-d764-43768414bc65",
        "colab": {
          "base_uri": "https://localhost:8080/"
        }
      },
      "execution_count": null,
      "outputs": [
        {
          "output_type": "stream",
          "name": "stdout",
          "text": [
            "Downloading data from https://storage.googleapis.com/tensorflow/tf-keras-datasets/train-labels-idx1-ubyte.gz\n",
            "29515/29515 [==============================] - 0s 0us/step\n",
            "Downloading data from https://storage.googleapis.com/tensorflow/tf-keras-datasets/train-images-idx3-ubyte.gz\n",
            "26421880/26421880 [==============================] - 2s 0us/step\n",
            "Downloading data from https://storage.googleapis.com/tensorflow/tf-keras-datasets/t10k-labels-idx1-ubyte.gz\n",
            "5148/5148 [==============================] - 0s 0us/step\n",
            "Downloading data from https://storage.googleapis.com/tensorflow/tf-keras-datasets/t10k-images-idx3-ubyte.gz\n",
            "4422102/4422102 [==============================] - 1s 0us/step\n"
          ]
        }
      ]
    },
    {
      "cell_type": "code",
      "source": [
        "dftrain.shape"
      ],
      "metadata": {
        "id": "WNLgHO50HHW5",
        "outputId": "3b651ffd-432e-4993-cf35-94f944ef863e",
        "colab": {
          "base_uri": "https://localhost:8080/"
        }
      },
      "execution_count": null,
      "outputs": [
        {
          "output_type": "execute_result",
          "data": {
            "text/plain": [
              "(60000, 28, 28)"
            ]
          },
          "metadata": {},
          "execution_count": 4
        }
      ]
    },
    {
      "cell_type": "code",
      "source": [
        "dftest.shape"
      ],
      "metadata": {
        "id": "hGMV_319HKFg",
        "outputId": "43d1cbc6-9ddc-4d34-dafb-679fe7242004",
        "colab": {
          "base_uri": "https://localhost:8080/"
        }
      },
      "execution_count": null,
      "outputs": [
        {
          "output_type": "execute_result",
          "data": {
            "text/plain": [
              "(10000, 28, 28)"
            ]
          },
          "metadata": {},
          "execution_count": 5
        }
      ]
    },
    {
      "cell_type": "code",
      "source": [
        "dftrain1=dftrain/255\n",
        "dftest1=dftest/255"
      ],
      "metadata": {
        "id": "0ooUjuIrHNC0"
      },
      "execution_count": null,
      "outputs": []
    },
    {
      "cell_type": "code",
      "source": [
        "dftrain1=np.expand_dims(dftrain1,axis=-1)"
      ],
      "metadata": {
        "id": "hysjlmQhHPjY"
      },
      "execution_count": null,
      "outputs": []
    },
    {
      "cell_type": "code",
      "source": [
        "dftrain1.shape"
      ],
      "metadata": {
        "id": "B2zG5h6ZHR6k",
        "outputId": "9523d725-d8cf-43a2-b2cc-d7f60753d28b",
        "colab": {
          "base_uri": "https://localhost:8080/"
        }
      },
      "execution_count": null,
      "outputs": [
        {
          "output_type": "execute_result",
          "data": {
            "text/plain": [
              "(60000, 28, 28, 1)"
            ]
          },
          "metadata": {},
          "execution_count": 8
        }
      ]
    },
    {
      "cell_type": "code",
      "source": [
        "dftest1=np.expand_dims(dftest1,axis=-1)\n",
        "dftest1.shape"
      ],
      "metadata": {
        "id": "lKovSQgXHTuV",
        "outputId": "9fe8813e-b5c2-4aa4-8e01-3ed90362f655",
        "colab": {
          "base_uri": "https://localhost:8080/"
        }
      },
      "execution_count": null,
      "outputs": [
        {
          "output_type": "execute_result",
          "data": {
            "text/plain": [
              "(10000, 28, 28, 1)"
            ]
          },
          "metadata": {},
          "execution_count": 9
        }
      ]
    },
    {
      "cell_type": "code",
      "source": [
        "def autoencoder(input_shape=(28,28,1), enco_size=32, alpha=.02):\n",
        "    input=Input(shape=input_shape)\n",
        "    encode=Conv2D(filters=32, kernel_size=(3,3), strides=2, padding='same')(input)\n",
        "    encode=LeakyReLU(alpha=alpha)(encode)\n",
        "    encode=BatchNormalization()(encode)\n",
        "    encode=Conv2D(filters=64, kernel_size=(3,3), strides=2, padding='same')(encode)\n",
        "    encode=LeakyReLU(alpha=alpha)(encode)\n",
        "    encode=BatchNormalization()(encode)\n",
        "\n",
        "    #define output for encoder\n",
        "\n",
        "    out_shape=encode.shape\n",
        "    encode=Flatten()(encode)\n",
        "    out=Dense(enco_size)(encode)\n",
        "    model=Model(input,out)\n",
        "\n",
        "    #decoder\n",
        "    decoder_input=Input (shape=(enco_size,))\n",
        "    target_shape=tuple(out_shape[1:])\n",
        "    decoder=Dense(np.prod(target_shape))(decoder_input)\n",
        "    decoder=Reshape(target_shape)(decoder)\n",
        "    decoder=Conv2DTranspose(filters=64, kernel_size=(3,3), strides=2, padding='same')(decoder)\n",
        "    decoder=LeakyReLU(alpha=alpha)(decoder)\n",
        "    decoder=BatchNormalization()(decoder)\n",
        "    decoder=Conv2DTranspose(filters=32, kernel_size=(3,3), strides=2, padding='same')(decoder)\n",
        "    decoder=LeakyReLU(alpha=alpha) (decoder)\n",
        "    decoder=BatchNormalization() (decoder)\n",
        "\n",
        "    #define output for decoder\n",
        "\n",
        "    decoder_out=Conv2DTranspose(filters=1, kernel_size=(3,3), padding='same', activation=\"sigmoid\")(decoder)\n",
        "    decoder_model=Model(decoder_input, decoder_out)\n",
        "\n",
        "    #define auto encoder\n",
        "    encoded_model_output=model(input)\n",
        "    decoded_model_output=decoder_model(encoded_model_output)\n",
        "    auto=Model(input, decoded_model_output)\n",
        "    return model, decoder_model, auto"
      ],
      "metadata": {
        "id": "7dUQCaUIHVpx"
      },
      "execution_count": null,
      "outputs": []
    },
    {
      "cell_type": "code",
      "source": [
        "encoder,decoder,autoencoder_model=autoencoder(enco_size=256)"
      ],
      "metadata": {
        "id": "LnVBG-q9HXa4"
      },
      "execution_count": null,
      "outputs": []
    },
    {
      "cell_type": "code",
      "source": [
        "autoencoder_model.compile(optimizer=\"adam\", loss=\"mse\")"
      ],
      "metadata": {
        "id": "Joygrzc0HZ3o"
      },
      "execution_count": null,
      "outputs": []
    },
    {
      "cell_type": "code",
      "source": [
        "encoder.summary()"
      ],
      "metadata": {
        "id": "qn_iCF4xHbgd",
        "outputId": "3a42fd2b-7192-4890-a651-246fe1ea5a40",
        "colab": {
          "base_uri": "https://localhost:8080/"
        }
      },
      "execution_count": null,
      "outputs": [
        {
          "output_type": "stream",
          "name": "stdout",
          "text": [
            "Model: \"model\"\n",
            "_________________________________________________________________\n",
            " Layer (type)                Output Shape              Param #   \n",
            "=================================================================\n",
            " input_1 (InputLayer)        [(None, 28, 28, 1)]       0         \n",
            "                                                                 \n",
            " conv2d (Conv2D)             (None, 14, 14, 32)        320       \n",
            "                                                                 \n",
            " leaky_re_lu (LeakyReLU)     (None, 14, 14, 32)        0         \n",
            "                                                                 \n",
            " batch_normalization (BatchN  (None, 14, 14, 32)       128       \n",
            " ormalization)                                                   \n",
            "                                                                 \n",
            " conv2d_1 (Conv2D)           (None, 7, 7, 64)          18496     \n",
            "                                                                 \n",
            " leaky_re_lu_1 (LeakyReLU)   (None, 7, 7, 64)          0         \n",
            "                                                                 \n",
            " batch_normalization_1 (Batc  (None, 7, 7, 64)         256       \n",
            " hNormalization)                                                 \n",
            "                                                                 \n",
            " flatten (Flatten)           (None, 3136)              0         \n",
            "                                                                 \n",
            " dense (Dense)               (None, 256)               803072    \n",
            "                                                                 \n",
            "=================================================================\n",
            "Total params: 822,272\n",
            "Trainable params: 822,080\n",
            "Non-trainable params: 192\n",
            "_________________________________________________________________\n"
          ]
        }
      ]
    },
    {
      "cell_type": "code",
      "source": [
        "decoder.summary()"
      ],
      "metadata": {
        "id": "8Bo8x93nHdCW",
        "outputId": "3378949e-01db-4221-c733-d098afca3434",
        "colab": {
          "base_uri": "https://localhost:8080/"
        }
      },
      "execution_count": null,
      "outputs": [
        {
          "output_type": "stream",
          "name": "stdout",
          "text": [
            "Model: \"model_1\"\n",
            "_________________________________________________________________\n",
            " Layer (type)                Output Shape              Param #   \n",
            "=================================================================\n",
            " input_2 (InputLayer)        [(None, 256)]             0         \n",
            "                                                                 \n",
            " dense_1 (Dense)             (None, 3136)              805952    \n",
            "                                                                 \n",
            " reshape (Reshape)           (None, 7, 7, 64)          0         \n",
            "                                                                 \n",
            " conv2d_transpose (Conv2DTra  (None, 14, 14, 64)       36928     \n",
            " nspose)                                                         \n",
            "                                                                 \n",
            " leaky_re_lu_2 (LeakyReLU)   (None, 14, 14, 64)        0         \n",
            "                                                                 \n",
            " batch_normalization_2 (Batc  (None, 14, 14, 64)       256       \n",
            " hNormalization)                                                 \n",
            "                                                                 \n",
            " conv2d_transpose_1 (Conv2DT  (None, 28, 28, 32)       18464     \n",
            " ranspose)                                                       \n",
            "                                                                 \n",
            " leaky_re_lu_3 (LeakyReLU)   (None, 28, 28, 32)        0         \n",
            "                                                                 \n",
            " batch_normalization_3 (Batc  (None, 28, 28, 32)       128       \n",
            " hNormalization)                                                 \n",
            "                                                                 \n",
            " conv2d_transpose_2 (Conv2DT  (None, 28, 28, 1)        289       \n",
            " ranspose)                                                       \n",
            "                                                                 \n",
            "=================================================================\n",
            "Total params: 862,017\n",
            "Trainable params: 861,825\n",
            "Non-trainable params: 192\n",
            "_________________________________________________________________\n"
          ]
        }
      ]
    },
    {
      "cell_type": "code",
      "source": [
        "autoencoder_model.summary()"
      ],
      "metadata": {
        "id": "OMTlbgqlHfOA",
        "outputId": "5b5342ae-c605-4507-f210-bf473e0f2e4d",
        "colab": {
          "base_uri": "https://localhost:8080/"
        }
      },
      "execution_count": null,
      "outputs": [
        {
          "output_type": "stream",
          "name": "stdout",
          "text": [
            "Model: \"model_2\"\n",
            "_________________________________________________________________\n",
            " Layer (type)                Output Shape              Param #   \n",
            "=================================================================\n",
            " input_1 (InputLayer)        [(None, 28, 28, 1)]       0         \n",
            "                                                                 \n",
            " model (Functional)          (None, 256)               822272    \n",
            "                                                                 \n",
            " model_1 (Functional)        (None, 28, 28, 1)         862017    \n",
            "                                                                 \n",
            "=================================================================\n",
            "Total params: 1,684,289\n",
            "Trainable params: 1,683,905\n",
            "Non-trainable params: 384\n",
            "_________________________________________________________________\n"
          ]
        }
      ]
    },
    {
      "cell_type": "code",
      "source": [
        "history= autoencoder_model.fit(dftrain1,dftrain1,epochs=3,batch_size=1024,validation_data=(dftest1,dftest1))"
      ],
      "metadata": {
        "id": "gi4vuAJGHhU0",
        "outputId": "de94f7ff-76a9-40ea-bb80-8e19f5c9ab35",
        "colab": {
          "base_uri": "https://localhost:8080/"
        }
      },
      "execution_count": null,
      "outputs": [
        {
          "output_type": "stream",
          "name": "stdout",
          "text": [
            "Epoch 1/3\n",
            "59/59 [==============================] - 181s 3s/step - loss: 0.0437 - val_loss: 0.1090\n",
            "Epoch 2/3\n",
            "59/59 [==============================] - 175s 3s/step - loss: 0.0148 - val_loss: 0.1068\n",
            "Epoch 3/3\n",
            "59/59 [==============================] - 179s 3s/step - loss: 0.0100 - val_loss: 0.0986\n"
          ]
        }
      ]
    },
    {
      "cell_type": "code",
      "source": [
        "#Sending INfo\n",
        "dftrain[0].shape"
      ],
      "metadata": {
        "id": "6OKM5WPbq11A",
        "outputId": "6fd76b90-ffc1-408a-8ee5-96ddb75060a2",
        "colab": {
          "base_uri": "https://localhost:8080/"
        }
      },
      "execution_count": null,
      "outputs": [
        {
          "output_type": "execute_result",
          "data": {
            "text/plain": [
              "(28, 28)"
            ]
          },
          "metadata": {},
          "execution_count": 35
        }
      ]
    },
    {
      "cell_type": "code",
      "source": [
        "import matplotlib.pyplot as plt\n",
        "plt.imshow(dftest[0])"
      ],
      "metadata": {
        "id": "otj9XqitrZjl",
        "outputId": "6e0e2973-a91e-493c-f869-f4d1b02f6d7f",
        "colab": {
          "base_uri": "https://localhost:8080/",
          "height": 283
        }
      },
      "execution_count": null,
      "outputs": [
        {
          "output_type": "execute_result",
          "data": {
            "text/plain": [
              "<matplotlib.image.AxesImage at 0x7f55e5fa24c0>"
            ]
          },
          "metadata": {},
          "execution_count": 36
        },
        {
          "output_type": "display_data",
          "data": {
            "text/plain": [
              "<Figure size 432x288 with 1 Axes>"
            ],
            "image/png": "[encoded data removed]"
          },
          "metadata": {
            "needs_background": "light"
          }
        }
      ]
    },
    {
      "cell_type": "code",
      "source": [
        "dftrain1[0].shape"
      ],
      "metadata": {
        "id": "bBvikY0prq0M",
        "outputId": "a568fb13-de24-4972-dbf8-abeb7818e9aa",
        "colab": {
          "base_uri": "https://localhost:8080/"
        }
      },
      "execution_count": null,
      "outputs": [
        {
          "output_type": "execute_result",
          "data": {
            "text/plain": [
              "(28, 28, 1)"
            ]
          },
          "metadata": {},
          "execution_count": 37
        }
      ]
    },
    {
      "cell_type": "code",
      "source": [
        "img=dftest1[0]\n",
        "img=img.reshape(1,28,28,1)\n",
        "encoded_data=encoder.predict(img)\n",
        "encoded_data=encoded_data.reshape(16,16)"
      ],
      "metadata": {
        "id": "jMSmn41GrvwI",
        "outputId": "36a07365-35a9-47fa-9f67-86ea3468f4ad",
        "colab": {
          "base_uri": "https://localhost:8080/"
        }
      },
      "execution_count": null,
      "outputs": [
        {
          "output_type": "stream",
          "name": "stdout",
          "text": [
            "1/1 [==============================] - 0s 139ms/step\n"
          ]
        }
      ]
    },
    {
      "cell_type": "code",
      "source": [
        "encoded_data.shape"
      ],
      "metadata": {
        "id": "_-ohgIlUsIxj",
        "outputId": "7e0fa13d-6b8d-4722-adcd-71611a6a6163",
        "colab": {
          "base_uri": "https://localhost:8080/"
        }
      },
      "execution_count": null,
      "outputs": [
        {
          "output_type": "execute_result",
          "data": {
            "text/plain": [
              "(16, 16)"
            ]
          },
          "metadata": {},
          "execution_count": 39
        }
      ]
    },
    {
      "cell_type": "code",
      "source": [
        "print(\"Encoded Data Plot\")\n",
        "plt.imshow(encoded_data)"
      ],
      "metadata": {
        "id": "MuWyRAKxsNaZ",
        "outputId": "57338a07-ef78-468e-af54-93db2e601c5b",
        "colab": {
          "base_uri": "https://localhost:8080/",
          "height": 301
        }
      },
      "execution_count": null,
      "outputs": [
        {
          "output_type": "stream",
          "name": "stdout",
          "text": [
            "Encoded Data Plot\n"
          ]
        },
        {
          "output_type": "execute_result",
          "data": {
            "text/plain": [
              "<matplotlib.image.AxesImage at 0x7f55e4263250>"
            ]
          },
          "metadata": {},
          "execution_count": 40
        },
        {
          "output_type": "display_data",
          "data": {
            "text/plain": [
              "<Figure size 432x288 with 1 Axes>"
            ],
            "image/png": "[encoded data removed]"
          },
          "metadata": {
            "needs_background": "light"
          }
        }
      ]
    },
    {
      "cell_type": "code",
      "source": [
        "def Cover_encoder (encoder, img1, path_cover_img):\n",
        "  img1=img1.reshape(1,28,28,1)\n",
        "  k2=encoder.predict(img1)\n",
        "  k2=k2.T\n",
        "\n",
        "  k2=k2.flatten()\n",
        "  k2=np.pad(k2, (0,9744), 'constant')\n",
        "\n",
        "  img=load_img(path_cover_img, grayscale=True, target_size=(100,100))\n",
        "  from tensorflow.keras import utils\n",
        "  from tensorflow.keras.utils import img_to_array\n",
        "  img1=img_to_array(img)\n",
        "\n",
        "  img1=img1.reshape(10000,1)\n",
        "\n",
        "  img1=img1.flatten()\n",
        "  img2=img1+k2\n",
        "\n",
        "  img3=img2.reshape(100, 100, 1)\n",
        "  from tensorflow.keras.utils import array_to_img\n",
        "\n",
        "  img3=array_to_img(img3)\n",
        "\n",
        "  return img3"
      ],
      "metadata": {
        "id": "Ym09IbnIscuo"
      },
      "execution_count": null,
      "outputs": []
    },
    {
      "cell_type": "code",
      "source": [
        "path=\"/content/dtc logo.png\""
      ],
      "metadata": {
        "id": "yLSGkhNEtaRs"
      },
      "execution_count": null,
      "outputs": []
    },
    {
      "cell_type": "code",
      "source": [
        "load_img(path, grayscale=True, target_size=(100, 100))"
      ],
      "metadata": {
        "id": "j1NbbO8PuWh6",
        "outputId": "aa45e3ff-4d6d-434d-d2ac-5cf2c90e2ef8",
        "colab": {
          "base_uri": "https://localhost:8080/",
          "height": 153
        }
      },
      "execution_count": null,
      "outputs": [
        {
          "output_type": "stream",
          "name": "stderr",
          "text": [
            "/usr/local/lib/python3.9/dist-packages/keras/utils/image_utils.py:409: UserWarning: grayscale is deprecated. Please use color_mode = \"grayscale\"\n",
            "  warnings.warn(\n"
          ]
        },
        {
          "output_type": "execute_result",
          "data": {
            "text/plain": [
              "<PIL.Image.Image image mode=L size=100x100 at 0x7F55E41C97F0>"
            ],
            "image/png": "[encoded data removed]"
          },
          "metadata": {},
          "execution_count": 51
        }
      ]
    },
    {
      "cell_type": "code",
      "source": [
        "send_data=Cover_encoder(encoder,dftest1[0], path)"
      ],
      "metadata": {
        "id": "5WRk_oilukwN",
        "outputId": "5a2d041d-6a5c-4a61-a0d4-eabdfc24d7c7",
        "colab": {
          "base_uri": "https://localhost:8080/"
        }
      },
      "execution_count": null,
      "outputs": [
        {
          "output_type": "stream",
          "name": "stdout",
          "text": [
            "1/1 [==============================] - 0s 30ms/step\n"
          ]
        }
      ]
    },
    {
      "cell_type": "code",
      "source": [
        "send_data"
      ],
      "metadata": {
        "id": "X5eoe3LYu9lj",
        "outputId": "2c86f3b1-6e7f-46ca-ab0f-593023b4b41c",
        "colab": {
          "base_uri": "https://localhost:8080/",
          "height": 117
        }
      },
      "execution_count": null,
      "outputs": [
        {
          "output_type": "execute_result",
          "data": {
            "text/plain": [
              "<PIL.Image.Image image mode=L size=100x100 at 0x7F55E41C9D60>"
            ],
            "image/png": "[encoded data removed]"
          },
          "metadata": {},
          "execution_count": 53
        }
      ]
    },
    {
      "cell_type": "code",
      "source": [
        "def receive_info(decoder, path, send_data):\n",
        "  from tensorflow.keras.utils import img_to_array\n",
        "  k=img_to_array(send_data)\n",
        "  img1=k.reshape(10000,1)\n",
        "  img1=img1.flatten()\n",
        "  img=load_img(path, grayscale=True, target_size=(100, 100))\n",
        "  img2=img_to_array(img)\n",
        "  img2=img2.reshape(10000,1)\n",
        "  img2=img2.flatten()\n",
        "  k1=img1-img2\n",
        "  k2=k1[0:256]\n",
        "  k2= np.reshape(k2, (256,1))\n",
        "  k2=k2.T\n",
        "  k3=decoder.predict(k2)\n",
        "  k3=k3.reshape(28,28)\n",
        "  return k3"
      ],
      "metadata": {
        "id": "48dubbqdvJGD"
      },
      "execution_count": null,
      "outputs": []
    },
    {
      "cell_type": "code",
      "source": [
        "k4=receive_info(decoder, path, send_data)"
      ],
      "metadata": {
        "id": "u4-_0HCywDpn",
        "outputId": "4ca01783-eaaa-4e8d-f56f-cc002cb17233",
        "colab": {
          "base_uri": "https://localhost:8080/"
        }
      },
      "execution_count": null,
      "outputs": [
        {
          "output_type": "stream",
          "name": "stdout",
          "text": [
            "1/1 [==============================] - 0s 144ms/step\n"
          ]
        }
      ]
    },
    {
      "cell_type": "code",
      "source": [
        "print(\"Received Data\")\n",
        "plt.imshow(k4)"
      ],
      "metadata": {
        "id": "7fBiQNglwWt9",
        "outputId": "46c1ebc0-7066-4e88-efc2-1e97cb779f0d",
        "colab": {
          "base_uri": "https://localhost:8080/",
          "height": 301
        }
      },
      "execution_count": null,
      "outputs": [
        {
          "output_type": "stream",
          "name": "stdout",
          "text": [
            "Received Data\n"
          ]
        },
        {
          "output_type": "execute_result",
          "data": {
            "text/plain": [
              "<matplotlib.image.AxesImage at 0x7f55d8663280>"
            ]
          },
          "metadata": {},
          "execution_count": 58
        },
        {
          "output_type": "display_data",
          "data": {
            "text/plain": [
              "<Figure size 432x288 with 1 Axes>"
            ],
            "image/png": "[encoded data removed]"
          },
          "metadata": {
            "needs_background": "light"
          }
        }
      ]
    },
    {
      "cell_type": "code",
      "source": [
        "import matplotlib.pyplot as plt\n",
        "plt.subplot(211)\n",
        "plt.title(\"MSE\")\n",
        "plt.plot(history.history[\"loss\"], color=\"blue\", label=\"train\")\n",
        "plt.plot(history.history[\"val_loss\"], color=\"orange\", label=\"test\")"
      ],
      "metadata": {
        "id": "U0SJWboLwtn3",
        "outputId": "e2ffc546-09b4-4b68-ea50-082d070497a0",
        "colab": {
          "base_uri": "https://localhost:8080/",
          "height": 363
        }
      },
      "execution_count": null,
      "outputs": [
        {
          "output_type": "error",
          "ename": "NameError",
          "evalue": "ignored",
          "traceback": [
            "\u001b[0;31m---------------------------------------------------------------------------\u001b[0m",
            "\u001b[0;31mNameError\u001b[0m                                 Traceback (most recent call last)",
            "\u001b[0;32m<ipython-input-1-125a9486e498>\u001b[0m in \u001b[0;36m<module>\u001b[0;34m\u001b[0m\n\u001b[1;32m      2\u001b[0m \u001b[0mplt\u001b[0m\u001b[0;34m.\u001b[0m\u001b[0msubplot\u001b[0m\u001b[0;34m(\u001b[0m\u001b[0;36m211\u001b[0m\u001b[0;34m)\u001b[0m\u001b[0;34m\u001b[0m\u001b[0;34m\u001b[0m\u001b[0m\n\u001b[1;32m      3\u001b[0m \u001b[0mplt\u001b[0m\u001b[0;34m.\u001b[0m\u001b[0mtitle\u001b[0m\u001b[0;34m(\u001b[0m\u001b[0;34m\"MSE\"\u001b[0m\u001b[0;34m)\u001b[0m\u001b[0;34m\u001b[0m\u001b[0;34m\u001b[0m\u001b[0m\n\u001b[0;32m----> 4\u001b[0;31m \u001b[0mplt\u001b[0m\u001b[0;34m.\u001b[0m\u001b[0mplot\u001b[0m\u001b[0;34m(\u001b[0m\u001b[0mhistory\u001b[0m\u001b[0;34m.\u001b[0m\u001b[0mhistory\u001b[0m\u001b[0;34m[\u001b[0m\u001b[0;34m\"loss\"\u001b[0m\u001b[0;34m]\u001b[0m\u001b[0;34m,\u001b[0m \u001b[0mcolor\u001b[0m\u001b[0;34m=\u001b[0m\u001b[0;34m\"blue\"\u001b[0m\u001b[0;34m,\u001b[0m \u001b[0mlabel\u001b[0m\u001b[0;34m=\u001b[0m\u001b[0;34m\"train\"\u001b[0m\u001b[0;34m)\u001b[0m\u001b[0;34m\u001b[0m\u001b[0;34m\u001b[0m\u001b[0m\n\u001b[0m\u001b[1;32m      5\u001b[0m \u001b[0mplt\u001b[0m\u001b[0;34m.\u001b[0m\u001b[0mplot\u001b[0m\u001b[0;34m(\u001b[0m\u001b[0mhistory\u001b[0m\u001b[0;34m.\u001b[0m\u001b[0mhistory\u001b[0m\u001b[0;34m[\u001b[0m\u001b[0;34m\"val_loss\"\u001b[0m\u001b[0;34m]\u001b[0m\u001b[0;34m,\u001b[0m \u001b[0mcolor\u001b[0m\u001b[0;34m=\u001b[0m\u001b[0;34m\"orange\"\u001b[0m\u001b[0;34m,\u001b[0m \u001b[0mlabel\u001b[0m\u001b[0;34m=\u001b[0m\u001b[0;34m\"test\"\u001b[0m\u001b[0;34m)\u001b[0m\u001b[0;34m\u001b[0m\u001b[0;34m\u001b[0m\u001b[0m\n",
            "\u001b[0;31mNameError\u001b[0m: name 'history' is not defined"
          ]
        },
        {
          "output_type": "display_data",
          "data": {
            "text/plain": [
              "<Figure size 432x288 with 1 Axes>"
            ],
            "image/png": "[encoded data removed]"
          },
          "metadata": {
            "needs_background": "light"
          }
        }
      ]
    },
    {
      "cell_type": "code",
      "source": [],
      "metadata": {
        "id": "Ek6NC5yjyU2d"
      },
      "execution_count": null,
      "outputs": []
    }
  ]
}